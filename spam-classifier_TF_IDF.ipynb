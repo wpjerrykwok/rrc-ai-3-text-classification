{
 "cells": [
  {
   "cell_type": "markdown",
   "metadata": {},
   "source": [
    "# Spam Classifier and TF-IDF scores\n",
    "* By Wai Ping Jerry KWOK\n",
    "* Created on 2023-11-07"
   ]
  },
  {
   "cell_type": "markdown",
   "metadata": {},
   "source": [
    "### Objective:\n",
    "The goal of the project is two fold: successfully implement a spam classifier to the YouTube comments from 5 different YouTube videos; and create code to calculate TF-IDF scores for a list of sentences."
   ]
  },
  {
   "cell_type": "markdown",
   "metadata": {},
   "source": [
    "### Instructions:\n",
    "1. From the UCI ML Repository, you will need the following files: https://archive.ics.uci.edu/ml/datasets/YouTube+Spam+Collection\n",
    "2. Alternatively, and easier, the same files are in the LEARN shell."
   ]
  },
  {
   "cell_type": "markdown",
   "metadata": {},
   "source": [
    "## Task 1: Data Exploration"
   ]
  },
  {
   "cell_type": "markdown",
   "metadata": {},
   "source": [
    "### 1.1 The Data"
   ]
  },
  {
   "cell_type": "code",
   "execution_count": 35,
   "metadata": {},
   "outputs": [],
   "source": [
    "# import libraries\n",
    "import pandas as pd\n",
    "import matplotlib.pyplot as plt\n",
    "import seaborn as sns\n",
    "from prettytable import PrettyTable\n",
    "import math"
   ]
  },
  {
   "cell_type": "code",
   "execution_count": 2,
   "metadata": {},
   "outputs": [],
   "source": [
    "# import sklearn libraries\n",
    "from sklearn.feature_extraction.text import CountVectorizer\n",
    "from sklearn.model_selection import train_test_split\n",
    "from sklearn.ensemble import RandomForestClassifier\n",
    "from sklearn.model_selection import cross_val_score\n",
    "from sklearn.metrics import confusion_matrix\n",
    "from sklearn.pipeline import Pipeline\n",
    "from sklearn.feature_extraction.text import TfidfTransformer\n",
    "from sklearn.model_selection import GridSearchCV"
   ]
  },
  {
   "cell_type": "markdown",
   "metadata": {},
   "source": [
    "**Read in just the Psy file to your Jupyter Notebook.** (1 point)"
   ]
  },
  {
   "cell_type": "code",
   "execution_count": 3,
   "metadata": {},
   "outputs": [],
   "source": [
    "# read in the psy data\n",
    "inp_psy = pd.read_csv('Youtube01-Psy.csv')"
   ]
  },
  {
   "cell_type": "markdown",
   "metadata": {},
   "source": [
    "**Display the head and tail of the file.** (1 point)"
   ]
  },
  {
   "cell_type": "code",
   "execution_count": 4,
   "metadata": {},
   "outputs": [
    {
     "data": {
      "text/html": [
       "<div>\n",
       "<style scoped>\n",
       "    .dataframe tbody tr th:only-of-type {\n",
       "        vertical-align: middle;\n",
       "    }\n",
       "\n",
       "    .dataframe tbody tr th {\n",
       "        vertical-align: top;\n",
       "    }\n",
       "\n",
       "    .dataframe thead th {\n",
       "        text-align: right;\n",
       "    }\n",
       "</style>\n",
       "<table border=\"1\" class=\"dataframe\">\n",
       "  <thead>\n",
       "    <tr style=\"text-align: right;\">\n",
       "      <th></th>\n",
       "      <th>COMMENT_ID</th>\n",
       "      <th>AUTHOR</th>\n",
       "      <th>DATE</th>\n",
       "      <th>CONTENT</th>\n",
       "      <th>CLASS</th>\n",
       "    </tr>\n",
       "  </thead>\n",
       "  <tbody>\n",
       "    <tr>\n",
       "      <th>0</th>\n",
       "      <td>LZQPQhLyRh80UYxNuaDWhIGQYNQ96IuCg-AYWqNPjpU</td>\n",
       "      <td>Julius NM</td>\n",
       "      <td>2013-11-07T06:20:48</td>\n",
       "      <td>Huh, anyway check out this you[tube] channel: ...</td>\n",
       "      <td>1</td>\n",
       "    </tr>\n",
       "    <tr>\n",
       "      <th>1</th>\n",
       "      <td>LZQPQhLyRh_C2cTtd9MvFRJedxydaVW-2sNg5Diuo4A</td>\n",
       "      <td>adam riyati</td>\n",
       "      <td>2013-11-07T12:37:15</td>\n",
       "      <td>Hey guys check out my new channel and our firs...</td>\n",
       "      <td>1</td>\n",
       "    </tr>\n",
       "    <tr>\n",
       "      <th>2</th>\n",
       "      <td>LZQPQhLyRh9MSZYnf8djyk0gEF9BHDPYrrK-qCczIY8</td>\n",
       "      <td>Evgeny Murashkin</td>\n",
       "      <td>2013-11-08T17:34:21</td>\n",
       "      <td>just for test I have to say murdev.com</td>\n",
       "      <td>1</td>\n",
       "    </tr>\n",
       "    <tr>\n",
       "      <th>3</th>\n",
       "      <td>z13jhp0bxqncu512g22wvzkasxmvvzjaz04</td>\n",
       "      <td>ElNino Melendez</td>\n",
       "      <td>2013-11-09T08:28:43</td>\n",
       "      <td>me shaking my sexy ass on my channel enjoy ^_^ ﻿</td>\n",
       "      <td>1</td>\n",
       "    </tr>\n",
       "    <tr>\n",
       "      <th>4</th>\n",
       "      <td>z13fwbwp1oujthgqj04chlngpvzmtt3r3dw</td>\n",
       "      <td>GsMega</td>\n",
       "      <td>2013-11-10T16:05:38</td>\n",
       "      <td>watch?v=vtaRGgvGtWQ   Check this out .﻿</td>\n",
       "      <td>1</td>\n",
       "    </tr>\n",
       "  </tbody>\n",
       "</table>\n",
       "</div>"
      ],
      "text/plain": [
       "                                    COMMENT_ID            AUTHOR  \\\n",
       "0  LZQPQhLyRh80UYxNuaDWhIGQYNQ96IuCg-AYWqNPjpU         Julius NM   \n",
       "1  LZQPQhLyRh_C2cTtd9MvFRJedxydaVW-2sNg5Diuo4A       adam riyati   \n",
       "2  LZQPQhLyRh9MSZYnf8djyk0gEF9BHDPYrrK-qCczIY8  Evgeny Murashkin   \n",
       "3          z13jhp0bxqncu512g22wvzkasxmvvzjaz04   ElNino Melendez   \n",
       "4          z13fwbwp1oujthgqj04chlngpvzmtt3r3dw            GsMega   \n",
       "\n",
       "                  DATE                                            CONTENT  \\\n",
       "0  2013-11-07T06:20:48  Huh, anyway check out this you[tube] channel: ...   \n",
       "1  2013-11-07T12:37:15  Hey guys check out my new channel and our firs...   \n",
       "2  2013-11-08T17:34:21             just for test I have to say murdev.com   \n",
       "3  2013-11-09T08:28:43   me shaking my sexy ass on my channel enjoy ^_^ ﻿   \n",
       "4  2013-11-10T16:05:38            watch?v=vtaRGgvGtWQ   Check this out .﻿   \n",
       "\n",
       "   CLASS  \n",
       "0      1  \n",
       "1      1  \n",
       "2      1  \n",
       "3      1  \n",
       "4      1  "
      ]
     },
     "execution_count": 4,
     "metadata": {},
     "output_type": "execute_result"
    }
   ],
   "source": [
    "# display the first 5 rows of the data\n",
    "inp_psy.head()"
   ]
  },
  {
   "cell_type": "code",
   "execution_count": 5,
   "metadata": {},
   "outputs": [
    {
     "data": {
      "text/html": [
       "<div>\n",
       "<style scoped>\n",
       "    .dataframe tbody tr th:only-of-type {\n",
       "        vertical-align: middle;\n",
       "    }\n",
       "\n",
       "    .dataframe tbody tr th {\n",
       "        vertical-align: top;\n",
       "    }\n",
       "\n",
       "    .dataframe thead th {\n",
       "        text-align: right;\n",
       "    }\n",
       "</style>\n",
       "<table border=\"1\" class=\"dataframe\">\n",
       "  <thead>\n",
       "    <tr style=\"text-align: right;\">\n",
       "      <th></th>\n",
       "      <th>COMMENT_ID</th>\n",
       "      <th>AUTHOR</th>\n",
       "      <th>DATE</th>\n",
       "      <th>CONTENT</th>\n",
       "      <th>CLASS</th>\n",
       "    </tr>\n",
       "  </thead>\n",
       "  <tbody>\n",
       "    <tr>\n",
       "      <th>345</th>\n",
       "      <td>z13th1q4yzihf1bll23qxzpjeujterydj</td>\n",
       "      <td>Carmen Racasanu</td>\n",
       "      <td>2014-11-14T13:27:52</td>\n",
       "      <td>How can this have 2 billion views when there's...</td>\n",
       "      <td>0</td>\n",
       "    </tr>\n",
       "    <tr>\n",
       "      <th>346</th>\n",
       "      <td>z13fcn1wfpb5e51xe04chdxakpzgchyaxzo0k</td>\n",
       "      <td>diego mogrovejo</td>\n",
       "      <td>2014-11-14T13:28:08</td>\n",
       "      <td>I don't now why I'm watching this in 2014﻿</td>\n",
       "      <td>0</td>\n",
       "    </tr>\n",
       "    <tr>\n",
       "      <th>347</th>\n",
       "      <td>z130zd5b3titudkoe04ccbeohojxuzppvbg</td>\n",
       "      <td>BlueYetiPlayz -Call Of Duty and More</td>\n",
       "      <td>2015-05-23T13:04:32</td>\n",
       "      <td>subscribe to me for call of duty vids and give...</td>\n",
       "      <td>1</td>\n",
       "    </tr>\n",
       "    <tr>\n",
       "      <th>348</th>\n",
       "      <td>z12he50arvrkivl5u04cctawgxzkjfsjcc4</td>\n",
       "      <td>Photo Editor</td>\n",
       "      <td>2015-06-05T14:14:48</td>\n",
       "      <td>hi guys please my android photo editor downloa...</td>\n",
       "      <td>1</td>\n",
       "    </tr>\n",
       "    <tr>\n",
       "      <th>349</th>\n",
       "      <td>z13vhvu54u3ewpp5h04ccb4zuoardrmjlyk0k</td>\n",
       "      <td>Ray Benich</td>\n",
       "      <td>2015-06-05T18:05:16</td>\n",
       "      <td>The first billion viewed this because they tho...</td>\n",
       "      <td>0</td>\n",
       "    </tr>\n",
       "  </tbody>\n",
       "</table>\n",
       "</div>"
      ],
      "text/plain": [
       "                                COMMENT_ID  \\\n",
       "345      z13th1q4yzihf1bll23qxzpjeujterydj   \n",
       "346  z13fcn1wfpb5e51xe04chdxakpzgchyaxzo0k   \n",
       "347    z130zd5b3titudkoe04ccbeohojxuzppvbg   \n",
       "348    z12he50arvrkivl5u04cctawgxzkjfsjcc4   \n",
       "349  z13vhvu54u3ewpp5h04ccb4zuoardrmjlyk0k   \n",
       "\n",
       "                                   AUTHOR                 DATE  \\\n",
       "345                       Carmen Racasanu  2014-11-14T13:27:52   \n",
       "346                       diego mogrovejo  2014-11-14T13:28:08   \n",
       "347  BlueYetiPlayz -Call Of Duty and More  2015-05-23T13:04:32   \n",
       "348                          Photo Editor  2015-06-05T14:14:48   \n",
       "349                            Ray Benich  2015-06-05T18:05:16   \n",
       "\n",
       "                                               CONTENT  CLASS  \n",
       "345  How can this have 2 billion views when there's...      0  \n",
       "346         I don't now why I'm watching this in 2014﻿      0  \n",
       "347  subscribe to me for call of duty vids and give...      1  \n",
       "348  hi guys please my android photo editor downloa...      1  \n",
       "349  The first billion viewed this because they tho...      0  "
      ]
     },
     "execution_count": 5,
     "metadata": {},
     "output_type": "execute_result"
    }
   ],
   "source": [
    "# display the last 5 rows of the data\n",
    "inp_psy.tail()"
   ]
  },
  {
   "cell_type": "markdown",
   "metadata": {},
   "source": [
    "**Give the number of rows in the file.** (1 point)"
   ]
  },
  {
   "cell_type": "code",
   "execution_count": 6,
   "metadata": {},
   "outputs": [
    {
     "name": "stdout",
     "output_type": "stream",
     "text": [
      "Number of rows =  350\n"
     ]
    }
   ],
   "source": [
    "# print the number of rows\n",
    "print('Number of rows = ', inp_psy.shape[0])"
   ]
  },
  {
   "cell_type": "markdown",
   "metadata": {},
   "source": [
    "**Display the number of spam and ham comments for the file.** (2 points)"
   ]
  },
  {
   "cell_type": "code",
   "execution_count": 7,
   "metadata": {},
   "outputs": [
    {
     "name": "stdout",
     "output_type": "stream",
     "text": [
      "Number of spam messages =  175\n",
      "Number of ham messages =  175\n"
     ]
    }
   ],
   "source": [
    "# print the number of spam messages according to the 'CLASS' column with 0 = ham, 1 = spam\n",
    "print('Number of spam messages = ', inp_psy[inp_psy['CLASS'] == 1].shape[0])\n",
    "\n",
    "# print the number of ham messages according to the 'CLASS' column with 0 = ham, 1 = spam\n",
    "print('Number of ham messages = ', inp_psy[inp_psy['CLASS'] == 0].shape[0])\n"
   ]
  },
  {
   "cell_type": "markdown",
   "metadata": {},
   "source": [
    "**Discuss the balance of the dataset and the balance of the classes spam/ham. Based on this, what sort of classifiers are appropriate for the task?** (3 marks)"
   ]
  },
  {
   "cell_type": "markdown",
   "metadata": {},
   "source": [
    "**Discussion**\n",
    "1. We have exactly equal number of spam and ham comments in the psy file. Therefore, the dataset is perfectly balanced.\n",
    "2. Since the dataset is perfectly balanced, we do not have limitations in choosing the classifiers. We may consider simple classifiers such as Decision Tress or Random Forest for this problem and see if we are satisfied with the testing accuracy.\n",
    "3. We also do not have limitations on sampling for our train/test split because the probability of the split being concentrated in one class is low."
   ]
  },
  {
   "cell_type": "markdown",
   "metadata": {},
   "source": [
    "### 1.2 Data Transformation"
   ]
  },
  {
   "cell_type": "markdown",
   "metadata": {},
   "source": [
    "**Create a bag-of-words for the Psy file. The fit and transform should be done on the ‘CONTENT’ of your data.** (2 points)"
   ]
  },
  {
   "cell_type": "code",
   "execution_count": 8,
   "metadata": {},
   "outputs": [],
   "source": [
    "# create an object of CountVectorizer() class\n",
    "count_vectorizer = CountVectorizer()\n",
    "\n",
    "# fit the vectorizer on inp_psy['CONTENT']\n",
    "psy_X = count_vectorizer.fit_transform(inp_psy['CONTENT'])"
   ]
  },
  {
   "cell_type": "markdown",
   "metadata": {},
   "source": [
    "**Display the matrix information.** (2 points)"
   ]
  },
  {
   "cell_type": "code",
   "execution_count": 9,
   "metadata": {},
   "outputs": [
    {
     "data": {
      "text/plain": [
       "<350x1418 sparse matrix of type '<class 'numpy.int64'>'\n",
       "\twith 4354 stored elements in Compressed Sparse Row format>"
      ]
     },
     "execution_count": 9,
     "metadata": {},
     "output_type": "execute_result"
    }
   ],
   "source": [
    "# display the matrix information \n",
    "psy_X"
   ]
  },
  {
   "cell_type": "markdown",
   "metadata": {},
   "source": [
    "**How many different words are in your bag of words?** (1 point)"
   ]
  },
  {
   "cell_type": "code",
   "execution_count": 10,
   "metadata": {},
   "outputs": [
    {
     "name": "stdout",
     "output_type": "stream",
     "text": [
      "Number of words =  1418\n"
     ]
    }
   ],
   "source": [
    "# print the number of different words in the matrix\n",
    "print('Number of words = ', psy_X.shape[1])"
   ]
  },
  {
   "cell_type": "markdown",
   "metadata": {},
   "source": [
    "**Discussion**\n",
    "1. There are 1418 different words in the bag of words of the psy file."
   ]
  },
  {
   "cell_type": "markdown",
   "metadata": {},
   "source": [
    "**Display the 349th comment in the Psy file.** (2 points)"
   ]
  },
  {
   "cell_type": "markdown",
   "metadata": {},
   "source": [
    "**Discussion**\n",
    "1. Since the 1st item is item[0], the 349th item is item[348]"
   ]
  },
  {
   "cell_type": "code",
   "execution_count": 11,
   "metadata": {},
   "outputs": [
    {
     "data": {
      "text/plain": [
       "'hi guys please my android photo editor download. thanks https://play.google.com/store/apps/details?id=com.butalabs.photo.editor\\ufeff'"
      ]
     },
     "execution_count": 11,
     "metadata": {},
     "output_type": "execute_result"
    }
   ],
   "source": [
    "# display the 349th row of 'CONTENT' column of inp_psy dataframe\n",
    "inp_psy['CONTENT'][348]"
   ]
  },
  {
   "cell_type": "markdown",
   "metadata": {},
   "source": [
    "**Using 'analyze' ,or something similar, give the breakdown of the 349th comment.** (2 points)"
   ]
  },
  {
   "cell_type": "code",
   "execution_count": 12,
   "metadata": {},
   "outputs": [
    {
     "data": {
      "text/plain": [
       "['hi',\n",
       " 'guys',\n",
       " 'please',\n",
       " 'my',\n",
       " 'android',\n",
       " 'photo',\n",
       " 'editor',\n",
       " 'download',\n",
       " 'thanks',\n",
       " 'https',\n",
       " 'play',\n",
       " 'google',\n",
       " 'com',\n",
       " 'store',\n",
       " 'apps',\n",
       " 'details',\n",
       " 'id',\n",
       " 'com',\n",
       " 'butalabs',\n",
       " 'photo',\n",
       " 'editor']"
      ]
     },
     "execution_count": 12,
     "metadata": {},
     "output_type": "execute_result"
    }
   ],
   "source": [
    "# build an analyzer to get the tokens\n",
    "analyze = count_vectorizer.build_analyzer()\n",
    "\n",
    "# give the breakdown of the 349th row of 'CONTENT' column\n",
    "analyze(inp_psy['CONTENT'][348])"
   ]
  },
  {
   "cell_type": "markdown",
   "metadata": {},
   "source": [
    "## Task 2: Training and Testing Sets"
   ]
  },
  {
   "cell_type": "markdown",
   "metadata": {},
   "source": [
    "**Shuffle your dataset(frac=1).** (1 point)"
   ]
  },
  {
   "cell_type": "code",
   "execution_count": 13,
   "metadata": {},
   "outputs": [],
   "source": [
    "# shuffle the inp_psy dataframe\n",
    "inp_psy_shu = inp_psy.sample(frac=1, random_state=80)"
   ]
  },
  {
   "cell_type": "markdown",
   "metadata": {},
   "source": [
    "**Create your training and testing splits by using the first 300 entries for training and the remaining for testing. Name them appropriately.** (3 points)"
   ]
  },
  {
   "cell_type": "code",
   "execution_count": 14,
   "metadata": {},
   "outputs": [],
   "source": [
    "# split the psy dataset into training and testing sets\n",
    "train_psy, test_psy = train_test_split(inp_psy_shu, train_size=300, random_state=80)"
   ]
  },
  {
   "cell_type": "markdown",
   "metadata": {},
   "source": [
    "**Create your training and testing attributes BOW. Name them appropriately.** (2 points)"
   ]
  },
  {
   "cell_type": "code",
   "execution_count": 15,
   "metadata": {},
   "outputs": [],
   "source": [
    "# create the training BOW\n",
    "d_train_att = count_vectorizer.transform(train_psy['CONTENT'])"
   ]
  },
  {
   "cell_type": "code",
   "execution_count": 16,
   "metadata": {},
   "outputs": [],
   "source": [
    "# create the testing BOW\n",
    "d_test_att = count_vectorizer.transform(test_psy['CONTENT'])"
   ]
  },
  {
   "cell_type": "markdown",
   "metadata": {},
   "source": [
    "**Create your training and testing labels. Name them appropriately.** (2 points)"
   ]
  },
  {
   "cell_type": "code",
   "execution_count": 17,
   "metadata": {},
   "outputs": [],
   "source": [
    "# create a separate df to store the training labels\n",
    "d_train_label = train_psy['CLASS']"
   ]
  },
  {
   "cell_type": "code",
   "execution_count": 18,
   "metadata": {},
   "outputs": [],
   "source": [
    "# create a separate df to store the testing labels\n",
    "d_test_label = test_psy['CLASS']"
   ]
  },
  {
   "cell_type": "markdown",
   "metadata": {},
   "source": [
    "**Output the matrix information of *d_train_att* and *d_test_att*. What are the dimensions of the matrices?** (3 points)"
   ]
  },
  {
   "cell_type": "code",
   "execution_count": 19,
   "metadata": {},
   "outputs": [
    {
     "data": {
      "text/plain": [
       "<300x1418 sparse matrix of type '<class 'numpy.int64'>'\n",
       "\twith 3796 stored elements in Compressed Sparse Row format>"
      ]
     },
     "execution_count": 19,
     "metadata": {},
     "output_type": "execute_result"
    }
   ],
   "source": [
    "# output the matrix information of the training BOW\n",
    "d_train_att"
   ]
  },
  {
   "cell_type": "code",
   "execution_count": 20,
   "metadata": {},
   "outputs": [
    {
     "data": {
      "text/plain": [
       "(300, 1418)"
      ]
     },
     "execution_count": 20,
     "metadata": {},
     "output_type": "execute_result"
    }
   ],
   "source": [
    "# dimension of the training BOW\n",
    "d_train_att.shape"
   ]
  },
  {
   "cell_type": "code",
   "execution_count": 21,
   "metadata": {},
   "outputs": [
    {
     "data": {
      "text/plain": [
       "<50x1418 sparse matrix of type '<class 'numpy.int64'>'\n",
       "\twith 558 stored elements in Compressed Sparse Row format>"
      ]
     },
     "execution_count": 21,
     "metadata": {},
     "output_type": "execute_result"
    }
   ],
   "source": [
    "# output the matrix information of the testing BOW\n",
    "d_test_att"
   ]
  },
  {
   "cell_type": "code",
   "execution_count": 22,
   "metadata": {},
   "outputs": [
    {
     "data": {
      "text/plain": [
       "(50, 1418)"
      ]
     },
     "execution_count": 22,
     "metadata": {},
     "output_type": "execute_result"
    }
   ],
   "source": [
    "# dimension of the testing BOW\n",
    "d_test_att.shape"
   ]
  },
  {
   "cell_type": "markdown",
   "metadata": {},
   "source": [
    "## Task 3: Random Forest Classifier"
   ]
  },
  {
   "cell_type": "markdown",
   "metadata": {},
   "source": [
    "**Implement a Random Forest classifier. With 50 trees, output.** (3 points)"
   ]
  },
  {
   "cell_type": "code",
   "execution_count": 23,
   "metadata": {},
   "outputs": [],
   "source": [
    "# create a random forest classifier with 50 trees\n",
    "rfc = RandomForestClassifier(n_estimators=50, random_state=80)"
   ]
  },
  {
   "cell_type": "markdown",
   "metadata": {},
   "source": [
    "**Train the classifier on the training data and test its performance on the testing data.** (2 points)"
   ]
  },
  {
   "cell_type": "code",
   "execution_count": 24,
   "metadata": {},
   "outputs": [
    {
     "data": {
      "text/html": [
       "<style>#sk-container-id-1 {color: black;}#sk-container-id-1 pre{padding: 0;}#sk-container-id-1 div.sk-toggleable {background-color: white;}#sk-container-id-1 label.sk-toggleable__label {cursor: pointer;display: block;width: 100%;margin-bottom: 0;padding: 0.3em;box-sizing: border-box;text-align: center;}#sk-container-id-1 label.sk-toggleable__label-arrow:before {content: \"▸\";float: left;margin-right: 0.25em;color: #696969;}#sk-container-id-1 label.sk-toggleable__label-arrow:hover:before {color: black;}#sk-container-id-1 div.sk-estimator:hover label.sk-toggleable__label-arrow:before {color: black;}#sk-container-id-1 div.sk-toggleable__content {max-height: 0;max-width: 0;overflow: hidden;text-align: left;background-color: #f0f8ff;}#sk-container-id-1 div.sk-toggleable__content pre {margin: 0.2em;color: black;border-radius: 0.25em;background-color: #f0f8ff;}#sk-container-id-1 input.sk-toggleable__control:checked~div.sk-toggleable__content {max-height: 200px;max-width: 100%;overflow: auto;}#sk-container-id-1 input.sk-toggleable__control:checked~label.sk-toggleable__label-arrow:before {content: \"▾\";}#sk-container-id-1 div.sk-estimator input.sk-toggleable__control:checked~label.sk-toggleable__label {background-color: #d4ebff;}#sk-container-id-1 div.sk-label input.sk-toggleable__control:checked~label.sk-toggleable__label {background-color: #d4ebff;}#sk-container-id-1 input.sk-hidden--visually {border: 0;clip: rect(1px 1px 1px 1px);clip: rect(1px, 1px, 1px, 1px);height: 1px;margin: -1px;overflow: hidden;padding: 0;position: absolute;width: 1px;}#sk-container-id-1 div.sk-estimator {font-family: monospace;background-color: #f0f8ff;border: 1px dotted black;border-radius: 0.25em;box-sizing: border-box;margin-bottom: 0.5em;}#sk-container-id-1 div.sk-estimator:hover {background-color: #d4ebff;}#sk-container-id-1 div.sk-parallel-item::after {content: \"\";width: 100%;border-bottom: 1px solid gray;flex-grow: 1;}#sk-container-id-1 div.sk-label:hover label.sk-toggleable__label {background-color: #d4ebff;}#sk-container-id-1 div.sk-serial::before {content: \"\";position: absolute;border-left: 1px solid gray;box-sizing: border-box;top: 0;bottom: 0;left: 50%;z-index: 0;}#sk-container-id-1 div.sk-serial {display: flex;flex-direction: column;align-items: center;background-color: white;padding-right: 0.2em;padding-left: 0.2em;position: relative;}#sk-container-id-1 div.sk-item {position: relative;z-index: 1;}#sk-container-id-1 div.sk-parallel {display: flex;align-items: stretch;justify-content: center;background-color: white;position: relative;}#sk-container-id-1 div.sk-item::before, #sk-container-id-1 div.sk-parallel-item::before {content: \"\";position: absolute;border-left: 1px solid gray;box-sizing: border-box;top: 0;bottom: 0;left: 50%;z-index: -1;}#sk-container-id-1 div.sk-parallel-item {display: flex;flex-direction: column;z-index: 1;position: relative;background-color: white;}#sk-container-id-1 div.sk-parallel-item:first-child::after {align-self: flex-end;width: 50%;}#sk-container-id-1 div.sk-parallel-item:last-child::after {align-self: flex-start;width: 50%;}#sk-container-id-1 div.sk-parallel-item:only-child::after {width: 0;}#sk-container-id-1 div.sk-dashed-wrapped {border: 1px dashed gray;margin: 0 0.4em 0.5em 0.4em;box-sizing: border-box;padding-bottom: 0.4em;background-color: white;}#sk-container-id-1 div.sk-label label {font-family: monospace;font-weight: bold;display: inline-block;line-height: 1.2em;}#sk-container-id-1 div.sk-label-container {text-align: center;}#sk-container-id-1 div.sk-container {/* jupyter's `normalize.less` sets `[hidden] { display: none; }` but bootstrap.min.css set `[hidden] { display: none !important; }` so we also need the `!important` here to be able to override the default hidden behavior on the sphinx rendered scikit-learn.org. See: https://github.com/scikit-learn/scikit-learn/issues/21755 */display: inline-block !important;position: relative;}#sk-container-id-1 div.sk-text-repr-fallback {display: none;}</style><div id=\"sk-container-id-1\" class=\"sk-top-container\"><div class=\"sk-text-repr-fallback\"><pre>RandomForestClassifier(n_estimators=50, random_state=80)</pre><b>In a Jupyter environment, please rerun this cell to show the HTML representation or trust the notebook. <br />On GitHub, the HTML representation is unable to render, please try loading this page with nbviewer.org.</b></div><div class=\"sk-container\" hidden><div class=\"sk-item\"><div class=\"sk-estimator sk-toggleable\"><input class=\"sk-toggleable__control sk-hidden--visually\" id=\"sk-estimator-id-1\" type=\"checkbox\" checked><label for=\"sk-estimator-id-1\" class=\"sk-toggleable__label sk-toggleable__label-arrow\">RandomForestClassifier</label><div class=\"sk-toggleable__content\"><pre>RandomForestClassifier(n_estimators=50, random_state=80)</pre></div></div></div></div></div>"
      ],
      "text/plain": [
       "RandomForestClassifier(n_estimators=50, random_state=80)"
      ]
     },
     "execution_count": 24,
     "metadata": {},
     "output_type": "execute_result"
    }
   ],
   "source": [
    "# fit the model on training dataset\n",
    "rfc.fit(d_train_att, d_train_label)"
   ]
  },
  {
   "cell_type": "code",
   "execution_count": 25,
   "metadata": {},
   "outputs": [
    {
     "data": {
      "text/plain": [
       "0.96"
      ]
     },
     "execution_count": 25,
     "metadata": {},
     "output_type": "execute_result"
    }
   ],
   "source": [
    "# test the model on testing dataset\n",
    "rfc.score(d_test_att, d_test_label)"
   ]
  },
  {
   "cell_type": "markdown",
   "metadata": {},
   "source": [
    "**Print the training and testing accuracies.** (2 points)"
   ]
  },
  {
   "cell_type": "code",
   "execution_count": 26,
   "metadata": {},
   "outputs": [
    {
     "name": "stdout",
     "output_type": "stream",
     "text": [
      "Training accuracy =  1.0\n",
      "Testing accuracy =  0.96\n"
     ]
    }
   ],
   "source": [
    "# print the training accuracy\n",
    "print('Training accuracy = ', rfc.score(d_train_att, d_train_label))\n",
    "\n",
    "# print the testing accuracy\n",
    "print('Testing accuracy = ', rfc.score(d_test_att, d_test_label))"
   ]
  },
  {
   "cell_type": "markdown",
   "metadata": {},
   "source": [
    "**Cross validate using 3 folds. Output the accuracies of the folds.** (3 points)"
   ]
  },
  {
   "cell_type": "code",
   "execution_count": 58,
   "metadata": {},
   "outputs": [
    {
     "name": "stdout",
     "output_type": "stream",
     "text": [
      "Cross validation scores:  [0.95 0.93 0.99]\n",
      "Average:  0.9567\n",
      "Standard deviation:  0.0249\n"
     ]
    }
   ],
   "source": [
    "# perform 3-fold cross validation\n",
    "scores = cross_val_score(rfc, d_train_att, d_train_label, cv=3)\n",
    "print('Cross validation scores: ', scores)\n",
    "print('Average Accuracy: ', round(scores.mean(), 4))\n",
    "print('Standard deviation: ', round(scores.std(), 4))"
   ]
  },
  {
   "cell_type": "markdown",
   "metadata": {},
   "source": [
    "**Generate a confusion matrix for the Random Forest classifier's predictions on the test data.** (3 points)"
   ]
  },
  {
   "cell_type": "code",
   "execution_count": 28,
   "metadata": {},
   "outputs": [
    {
     "data": {
      "text/plain": [
       "array([[21,  0],\n",
       "       [ 2, 27]], dtype=int64)"
      ]
     },
     "execution_count": 28,
     "metadata": {},
     "output_type": "execute_result"
    }
   ],
   "source": [
    "# construct a confusion matrix\n",
    "pred_labels = rfc.predict(d_test_att)\n",
    "cm = confusion_matrix(d_test_label, pred_labels)\n",
    "cm"
   ]
  },
  {
   "cell_type": "markdown",
   "metadata": {},
   "source": [
    "**Visualize this matrix (you may need to implement or use a utility function for visualization).** (3 points)"
   ]
  },
  {
   "cell_type": "code",
   "execution_count": 29,
   "metadata": {},
   "outputs": [],
   "source": [
    "# setup the class names\n",
    "class_names = ['ham', 'spam']"
   ]
  },
  {
   "cell_type": "code",
   "execution_count": 30,
   "metadata": {},
   "outputs": [
    {
     "data": {
      "image/png": "[encoded data removed]",
      "text/plain": [
       "<Figure size 640x480 with 1 Axes>"
      ]
     },
     "metadata": {},
     "output_type": "display_data"
    }
   ],
   "source": [
    "# visualize the confusion matrix\n",
    "sns.heatmap(cm, cmap='Greens', cbar=False, square=True,\n",
    "            annot=True, annot_kws={'size':16}, \n",
    "            xticklabels=class_names, yticklabels=class_names)\n",
    "\n",
    "plt.title('Confusion Matrix')\n",
    "plt.xlabel('Predicted labels')\n",
    "plt.ylabel('True labels')\n",
    "plt.show()"
   ]
  },
  {
   "cell_type": "markdown",
   "metadata": {},
   "source": [
    "## Task 4: Pipeline Data"
   ]
  },
  {
   "cell_type": "markdown",
   "metadata": {},
   "source": [
    "**Recall that there are five comment files, we would like to compile all of them into a single file to use in the pipeline we create in what follows.**\n",
    "\n",
    "**Concatenate your 5 files into one using .concat.** (3 points)"
   ]
  },
  {
   "cell_type": "code",
   "execution_count": 31,
   "metadata": {},
   "outputs": [],
   "source": [
    "# read in the data\n",
    "inp_kat = pd.read_csv('Youtube02-KatyPerry.csv')\n",
    "inp_lmf = pd.read_csv('Youtube03-LMFAO.csv')\n",
    "inp_emi = pd.read_csv('Youtube04-Eminem.csv')\n",
    "inp_sha = pd.read_csv('Youtube05-Shakira.csv')"
   ]
  },
  {
   "cell_type": "code",
   "execution_count": 32,
   "metadata": {},
   "outputs": [],
   "source": [
    "# concatenate all the dataframes\n",
    "inp_all = pd.concat([inp_psy, inp_kat, inp_lmf, inp_emi, inp_sha])"
   ]
  },
  {
   "cell_type": "markdown",
   "metadata": {},
   "source": [
    "**Provided you have concatenated the files correctly the length of your new file should be close to 2000. Output the length.** (1 point)"
   ]
  },
  {
   "cell_type": "code",
   "execution_count": 33,
   "metadata": {},
   "outputs": [
    {
     "name": "stdout",
     "output_type": "stream",
     "text": [
      "Number of rows =  1956\n"
     ]
    }
   ],
   "source": [
    "# print the number of rows\n",
    "print('Number of rows = ', inp_all.shape[0])"
   ]
  },
  {
   "cell_type": "markdown",
   "metadata": {},
   "source": [
    "**Check the spam-to-ham ratio in the new file; they should be balanced- about 1000 each. Output the number of spams and the number of hams.** (2 points)"
   ]
  },
  {
   "cell_type": "code",
   "execution_count": 34,
   "metadata": {},
   "outputs": [
    {
     "name": "stdout",
     "output_type": "stream",
     "text": [
      "Number of spam messages =  1005\n",
      "Number of ham messages =  951\n"
     ]
    }
   ],
   "source": [
    "# print the number of spam messages according to the 'CLASS' column with 0 = ham, 1 = spam\n",
    "print('Number of spam messages = ', inp_all[inp_all['CLASS'] == 1].shape[0])\n",
    "\n",
    "# print the number of ham messages according to the 'CLASS' column with 0 = ham, 1 = spam\n",
    "print('Number of ham messages = ', inp_all[inp_all['CLASS'] == 0].shape[0])"
   ]
  },
  {
   "cell_type": "code",
   "execution_count": 35,
   "metadata": {},
   "outputs": [
    {
     "name": "stdout",
     "output_type": "stream",
     "text": [
      "Spam ratio =  51.38 %\n"
     ]
    }
   ],
   "source": [
    "# calculate the spam ratio\n",
    "print('Spam ratio = ', round(inp_all[inp_all['CLASS'] == 1].shape[0]/inp_all.shape[0]*100, 2), '%')"
   ]
  },
  {
   "cell_type": "markdown",
   "metadata": {},
   "source": [
    "**Shuffle the new data and create content and label sets, and name them appropriately.** (3 points)"
   ]
  },
  {
   "cell_type": "markdown",
   "metadata": {},
   "source": [
    "**Discussion**\n",
    "1. The train size is 1500 to align with later steps."
   ]
  },
  {
   "cell_type": "code",
   "execution_count": 36,
   "metadata": {},
   "outputs": [],
   "source": [
    "# shuffle the inp_all dataframe\n",
    "inp_all_shu = inp_all.sample(frac=1, random_state=80)\n",
    "\n",
    "# split the inp_all dataset into training and testing sets\n",
    "train_all, test_all = train_test_split(inp_all_shu, train_size=1500, random_state=80)\n",
    "\n",
    "# create a separate df to store the training content\n",
    "d_train_all_cont = train_all['CONTENT']\n",
    "\n",
    "# create a separate df to store the testing content\n",
    "d_test_all_cont = test_all['CONTENT']\n",
    "\n",
    "# create a separate df to store the training labels\n",
    "d_train_all_label = train_all['CLASS']\n",
    "\n",
    "# create a separate df to store the testing labels\n",
    "d_test_all_label = test_all['CLASS']"
   ]
  },
  {
   "cell_type": "markdown",
   "metadata": {},
   "source": [
    "## Task 5: Pipeline Creation"
   ]
  },
  {
   "cell_type": "markdown",
   "metadata": {},
   "source": [
    "**Read the sci-kit learn documentation on Pipelines. Name 3 advantages to using a pipeline. You can use any reference you wish to answer this question, just be sure to include the reference in your response.** (5 points)"
   ]
  },
  {
   "cell_type": "markdown",
   "metadata": {},
   "source": [
    "**Discussion**\n",
    "\n",
    "*Pipeline* is the most common tool to build a composite estimator by combining transformers with classifiers, regressors or other estimators. It is useful when there is a fixed sequence of steps in processing the data, for example feature selection, normalization and classification. The advantages of using Pipeline\n",
    "1. **Convenience and encapsulation**: We only have to call fit and predict once on your data to fit a whole sequence of estimators.\n",
    "2. **Joint parameter selection**: We can grid search over parameters of all estimators in the pipeline at once.\n",
    "3. **Safety**: Pipelines help avoid leaking statistics from your test data into the trained model in cross-validation, by ensuring that the same samples are used to train the transformers and predictors.\n",
    "\n",
    "**Reference**\n",
    "\n",
    "https://scikit-learn.org/stable/modules/compose.html"
   ]
  },
  {
   "cell_type": "markdown",
   "metadata": {},
   "source": [
    "**Create a two-step pipeline with a bag-of-words step and a random forest step.** (3 points)"
   ]
  },
  {
   "cell_type": "code",
   "execution_count": 37,
   "metadata": {},
   "outputs": [],
   "source": [
    "# create a pipeline of vectorizer and random forest classifier\n",
    "pipeline = Pipeline([\n",
    "    ('vectorizer', CountVectorizer()),\n",
    "    ('classifier', RandomForestClassifier(n_estimators=50, random_state=80))\n",
    "])"
   ]
  },
  {
   "cell_type": "markdown",
   "metadata": {},
   "source": [
    "**Output the pipeline to display its steps.** (1 point)"
   ]
  },
  {
   "cell_type": "code",
   "execution_count": 38,
   "metadata": {},
   "outputs": [
    {
     "data": {
      "text/plain": [
       "[('vectorizer', CountVectorizer()),\n",
       " ('classifier', RandomForestClassifier(n_estimators=50, random_state=80))]"
      ]
     },
     "execution_count": 38,
     "metadata": {},
     "output_type": "execute_result"
    }
   ],
   "source": [
    "# display the pipeline steps\n",
    "pipeline.steps"
   ]
  },
  {
   "cell_type": "markdown",
   "metadata": {},
   "source": [
    "**Fit your pipeline with the first 1500 entries of the content and labels. Output.** (3 points)"
   ]
  },
  {
   "cell_type": "code",
   "execution_count": 39,
   "metadata": {},
   "outputs": [
    {
     "data": {
      "text/html": [
       "<style>#sk-container-id-2 {color: black;}#sk-container-id-2 pre{padding: 0;}#sk-container-id-2 div.sk-toggleable {background-color: white;}#sk-container-id-2 label.sk-toggleable__label {cursor: pointer;display: block;width: 100%;margin-bottom: 0;padding: 0.3em;box-sizing: border-box;text-align: center;}#sk-container-id-2 label.sk-toggleable__label-arrow:before {content: \"▸\";float: left;margin-right: 0.25em;color: #696969;}#sk-container-id-2 label.sk-toggleable__label-arrow:hover:before {color: black;}#sk-container-id-2 div.sk-estimator:hover label.sk-toggleable__label-arrow:before {color: black;}#sk-container-id-2 div.sk-toggleable__content {max-height: 0;max-width: 0;overflow: hidden;text-align: left;background-color: #f0f8ff;}#sk-container-id-2 div.sk-toggleable__content pre {margin: 0.2em;color: black;border-radius: 0.25em;background-color: #f0f8ff;}#sk-container-id-2 input.sk-toggleable__control:checked~div.sk-toggleable__content {max-height: 200px;max-width: 100%;overflow: auto;}#sk-container-id-2 input.sk-toggleable__control:checked~label.sk-toggleable__label-arrow:before {content: \"▾\";}#sk-container-id-2 div.sk-estimator input.sk-toggleable__control:checked~label.sk-toggleable__label {background-color: #d4ebff;}#sk-container-id-2 div.sk-label input.sk-toggleable__control:checked~label.sk-toggleable__label {background-color: #d4ebff;}#sk-container-id-2 input.sk-hidden--visually {border: 0;clip: rect(1px 1px 1px 1px);clip: rect(1px, 1px, 1px, 1px);height: 1px;margin: -1px;overflow: hidden;padding: 0;position: absolute;width: 1px;}#sk-container-id-2 div.sk-estimator {font-family: monospace;background-color: #f0f8ff;border: 1px dotted black;border-radius: 0.25em;box-sizing: border-box;margin-bottom: 0.5em;}#sk-container-id-2 div.sk-estimator:hover {background-color: #d4ebff;}#sk-container-id-2 div.sk-parallel-item::after {content: \"\";width: 100%;border-bottom: 1px solid gray;flex-grow: 1;}#sk-container-id-2 div.sk-label:hover label.sk-toggleable__label {background-color: #d4ebff;}#sk-container-id-2 div.sk-serial::before {content: \"\";position: absolute;border-left: 1px solid gray;box-sizing: border-box;top: 0;bottom: 0;left: 50%;z-index: 0;}#sk-container-id-2 div.sk-serial {display: flex;flex-direction: column;align-items: center;background-color: white;padding-right: 0.2em;padding-left: 0.2em;position: relative;}#sk-container-id-2 div.sk-item {position: relative;z-index: 1;}#sk-container-id-2 div.sk-parallel {display: flex;align-items: stretch;justify-content: center;background-color: white;position: relative;}#sk-container-id-2 div.sk-item::before, #sk-container-id-2 div.sk-parallel-item::before {content: \"\";position: absolute;border-left: 1px solid gray;box-sizing: border-box;top: 0;bottom: 0;left: 50%;z-index: -1;}#sk-container-id-2 div.sk-parallel-item {display: flex;flex-direction: column;z-index: 1;position: relative;background-color: white;}#sk-container-id-2 div.sk-parallel-item:first-child::after {align-self: flex-end;width: 50%;}#sk-container-id-2 div.sk-parallel-item:last-child::after {align-self: flex-start;width: 50%;}#sk-container-id-2 div.sk-parallel-item:only-child::after {width: 0;}#sk-container-id-2 div.sk-dashed-wrapped {border: 1px dashed gray;margin: 0 0.4em 0.5em 0.4em;box-sizing: border-box;padding-bottom: 0.4em;background-color: white;}#sk-container-id-2 div.sk-label label {font-family: monospace;font-weight: bold;display: inline-block;line-height: 1.2em;}#sk-container-id-2 div.sk-label-container {text-align: center;}#sk-container-id-2 div.sk-container {/* jupyter's `normalize.less` sets `[hidden] { display: none; }` but bootstrap.min.css set `[hidden] { display: none !important; }` so we also need the `!important` here to be able to override the default hidden behavior on the sphinx rendered scikit-learn.org. See: https://github.com/scikit-learn/scikit-learn/issues/21755 */display: inline-block !important;position: relative;}#sk-container-id-2 div.sk-text-repr-fallback {display: none;}</style><div id=\"sk-container-id-2\" class=\"sk-top-container\"><div class=\"sk-text-repr-fallback\"><pre>Pipeline(steps=[(&#x27;vectorizer&#x27;, CountVectorizer()),\n",
       "                (&#x27;classifier&#x27;,\n",
       "                 RandomForestClassifier(n_estimators=50, random_state=80))])</pre><b>In a Jupyter environment, please rerun this cell to show the HTML representation or trust the notebook. <br />On GitHub, the HTML representation is unable to render, please try loading this page with nbviewer.org.</b></div><div class=\"sk-container\" hidden><div class=\"sk-item sk-dashed-wrapped\"><div class=\"sk-label-container\"><div class=\"sk-label sk-toggleable\"><input class=\"sk-toggleable__control sk-hidden--visually\" id=\"sk-estimator-id-2\" type=\"checkbox\" ><label for=\"sk-estimator-id-2\" class=\"sk-toggleable__label sk-toggleable__label-arrow\">Pipeline</label><div class=\"sk-toggleable__content\"><pre>Pipeline(steps=[(&#x27;vectorizer&#x27;, CountVectorizer()),\n",
       "                (&#x27;classifier&#x27;,\n",
       "                 RandomForestClassifier(n_estimators=50, random_state=80))])</pre></div></div></div><div class=\"sk-serial\"><div class=\"sk-item\"><div class=\"sk-estimator sk-toggleable\"><input class=\"sk-toggleable__control sk-hidden--visually\" id=\"sk-estimator-id-3\" type=\"checkbox\" ><label for=\"sk-estimator-id-3\" class=\"sk-toggleable__label sk-toggleable__label-arrow\">CountVectorizer</label><div class=\"sk-toggleable__content\"><pre>CountVectorizer()</pre></div></div></div><div class=\"sk-item\"><div class=\"sk-estimator sk-toggleable\"><input class=\"sk-toggleable__control sk-hidden--visually\" id=\"sk-estimator-id-4\" type=\"checkbox\" ><label for=\"sk-estimator-id-4\" class=\"sk-toggleable__label sk-toggleable__label-arrow\">RandomForestClassifier</label><div class=\"sk-toggleable__content\"><pre>RandomForestClassifier(n_estimators=50, random_state=80)</pre></div></div></div></div></div></div></div>"
      ],
      "text/plain": [
       "Pipeline(steps=[('vectorizer', CountVectorizer()),\n",
       "                ('classifier',\n",
       "                 RandomForestClassifier(n_estimators=50, random_state=80))])"
      ]
     },
     "execution_count": 39,
     "metadata": {},
     "output_type": "execute_result"
    }
   ],
   "source": [
    "# fit the pipeline on the training data\n",
    "pipeline.fit(d_train_all_cont, d_train_all_label)"
   ]
  },
  {
   "cell_type": "markdown",
   "metadata": {},
   "source": [
    "**Use .score to score your pipeline.** (2 points)"
   ]
  },
  {
   "cell_type": "code",
   "execution_count": 40,
   "metadata": {},
   "outputs": [
    {
     "name": "stdout",
     "output_type": "stream",
     "text": [
      "Training accuracy =  1.0\n",
      "Testing accuracy =  0.9692982456140351\n"
     ]
    }
   ],
   "source": [
    "# print the training accuracy\n",
    "print('Training accuracy = ', pipeline.score(d_train_all_cont, d_train_all_label))\n",
    "\n",
    "# print the testing accuracy\n",
    "print('Testing accuracy = ', pipeline.score(d_test_all_cont, d_test_all_label))"
   ]
  },
  {
   "cell_type": "markdown",
   "metadata": {},
   "source": [
    "**Use your pipeline to predict whether the following two comments are spam or ham.** (5 points)\n",
    "1. \"what a neat video\"\n",
    "2. \"plz subscribe to my channel\""
   ]
  },
  {
   "cell_type": "code",
   "execution_count": 41,
   "metadata": {},
   "outputs": [
    {
     "data": {
      "text/plain": [
       "0"
      ]
     },
     "execution_count": 41,
     "metadata": {},
     "output_type": "execute_result"
    }
   ],
   "source": [
    "# create the comment\n",
    "comment_1 = ['what a neat video']\n",
    "\n",
    "# predict the label of comment_1\n",
    "com_1_pred = pipeline.predict(comment_1)\n",
    "com_1_pred[0]"
   ]
  },
  {
   "cell_type": "markdown",
   "metadata": {},
   "source": [
    "**Discussion**\n",
    "1. The predicted label is 0; it is a ham. "
   ]
  },
  {
   "cell_type": "code",
   "execution_count": 42,
   "metadata": {},
   "outputs": [
    {
     "data": {
      "text/plain": [
       "1"
      ]
     },
     "execution_count": 42,
     "metadata": {},
     "output_type": "execute_result"
    }
   ],
   "source": [
    "# create the comment\n",
    "comment_2 = ['plz subscribe to my channel']\n",
    "\n",
    "# predict the label of comment_2\n",
    "com_2_pred = pipeline.predict(comment_2)\n",
    "com_2_pred[0]"
   ]
  },
  {
   "cell_type": "markdown",
   "metadata": {},
   "source": [
    "**Discussion**\n",
    "1. The predicted label is 1; it is a spam. "
   ]
  },
  {
   "cell_type": "markdown",
   "metadata": {},
   "source": [
    "**Cross-validate using your pipeline. Use cv=3. Print out the accuracies.** (3 points)"
   ]
  },
  {
   "cell_type": "code",
   "execution_count": 59,
   "metadata": {},
   "outputs": [
    {
     "name": "stdout",
     "output_type": "stream",
     "text": [
      "Cross validation scores:  [0.948 0.952 0.936]\n",
      "Average Accuracy:  0.9453\n",
      "Standard deviation:  0.0068\n"
     ]
    }
   ],
   "source": [
    "# cross validation with 3 folds\n",
    "pl1_scores = cross_val_score(pipeline, d_train_all_cont, d_train_all_label, cv=3)\n",
    "\n",
    "# print the cross validation scores, average and standard deviation\n",
    "print('Cross validation scores: ', pl1_scores)\n",
    "print('Average Accuracy: ', round(pl1_scores.mean(), 4))\n",
    "print('Standard deviation: ', round(pl1_scores.std(), 4))"
   ]
  },
  {
   "cell_type": "markdown",
   "metadata": {},
   "source": [
    "## Task 6: Pipeline 2 Creation"
   ]
  },
  {
   "cell_type": "markdown",
   "metadata": {},
   "source": [
    "**Create a second pipeline named *pipeline2* which includes a TfidfTransformer step.** (3 points)"
   ]
  },
  {
   "cell_type": "code",
   "execution_count": 44,
   "metadata": {},
   "outputs": [
    {
     "data": {
      "text/plain": [
       "[('vectorizer', CountVectorizer()),\n",
       " ('tfidf', TfidfTransformer()),\n",
       " ('classifier', RandomForestClassifier(random_state=80))]"
      ]
     },
     "execution_count": 44,
     "metadata": {},
     "output_type": "execute_result"
    }
   ],
   "source": [
    "# create a pipeline of vectorizer, tfidf transformer and random forest classifier\n",
    "pipeline2 = Pipeline([\n",
    "    ('vectorizer', CountVectorizer()),\n",
    "    ('tfidf', TfidfTransformer()),\n",
    "    ('classifier', RandomForestClassifier(random_state=80))\n",
    "])\n",
    "\n",
    "# display the pipeline steps\n",
    "pipeline2.steps"
   ]
  },
  {
   "cell_type": "markdown",
   "metadata": {},
   "source": [
    "**Cross validate pipeline2 with 3 folds. Output the accuracy.** (3 points)"
   ]
  },
  {
   "cell_type": "code",
   "execution_count": 60,
   "metadata": {},
   "outputs": [
    {
     "name": "stdout",
     "output_type": "stream",
     "text": [
      "Cross validation scores:  [0.95  0.946 0.938]\n",
      "Average Accuracy:  0.9447\n",
      "Standard deviation:  0.005\n"
     ]
    }
   ],
   "source": [
    "# cross validation with 3 folds\n",
    "pl2_scores = cross_val_score(pipeline2, d_train_all_cont, d_train_all_label, cv=3)\n",
    "\n",
    "# print the cross validation scores, average and standard deviation\n",
    "print('Cross validation scores: ', pl2_scores)\n",
    "print('Average Accuracy: ', round(pl2_scores.mean(), 4))\n",
    "print('Standard deviation: ', round(pl2_scores.std(), 4))"
   ]
  },
  {
   "cell_type": "markdown",
   "metadata": {},
   "source": [
    "**Use the following parameter dictionary to perform a grid search.** (3 points)"
   ]
  },
  {
   "cell_type": "markdown",
   "metadata": {},
   "source": [
    "**Perform the grid search, you can reduce *n_estimators* to 2 values and *max_features* to 1000 and 2000 to speed things up.** (3 points)"
   ]
  },
  {
   "cell_type": "code",
   "execution_count": 46,
   "metadata": {},
   "outputs": [
    {
     "name": "stdout",
     "output_type": "stream",
     "text": [
      "Fitting 5 folds for each of 72 candidates, totalling 360 fits\n"
     ]
    },
    {
     "data": {
      "text/html": [
       "<style>#sk-container-id-3 {color: black;}#sk-container-id-3 pre{padding: 0;}#sk-container-id-3 div.sk-toggleable {background-color: white;}#sk-container-id-3 label.sk-toggleable__label {cursor: pointer;display: block;width: 100%;margin-bottom: 0;padding: 0.3em;box-sizing: border-box;text-align: center;}#sk-container-id-3 label.sk-toggleable__label-arrow:before {content: \"▸\";float: left;margin-right: 0.25em;color: #696969;}#sk-container-id-3 label.sk-toggleable__label-arrow:hover:before {color: black;}#sk-container-id-3 div.sk-estimator:hover label.sk-toggleable__label-arrow:before {color: black;}#sk-container-id-3 div.sk-toggleable__content {max-height: 0;max-width: 0;overflow: hidden;text-align: left;background-color: #f0f8ff;}#sk-container-id-3 div.sk-toggleable__content pre {margin: 0.2em;color: black;border-radius: 0.25em;background-color: #f0f8ff;}#sk-container-id-3 input.sk-toggleable__control:checked~div.sk-toggleable__content {max-height: 200px;max-width: 100%;overflow: auto;}#sk-container-id-3 input.sk-toggleable__control:checked~label.sk-toggleable__label-arrow:before {content: \"▾\";}#sk-container-id-3 div.sk-estimator input.sk-toggleable__control:checked~label.sk-toggleable__label {background-color: #d4ebff;}#sk-container-id-3 div.sk-label input.sk-toggleable__control:checked~label.sk-toggleable__label {background-color: #d4ebff;}#sk-container-id-3 input.sk-hidden--visually {border: 0;clip: rect(1px 1px 1px 1px);clip: rect(1px, 1px, 1px, 1px);height: 1px;margin: -1px;overflow: hidden;padding: 0;position: absolute;width: 1px;}#sk-container-id-3 div.sk-estimator {font-family: monospace;background-color: #f0f8ff;border: 1px dotted black;border-radius: 0.25em;box-sizing: border-box;margin-bottom: 0.5em;}#sk-container-id-3 div.sk-estimator:hover {background-color: #d4ebff;}#sk-container-id-3 div.sk-parallel-item::after {content: \"\";width: 100%;border-bottom: 1px solid gray;flex-grow: 1;}#sk-container-id-3 div.sk-label:hover label.sk-toggleable__label {background-color: #d4ebff;}#sk-container-id-3 div.sk-serial::before {content: \"\";position: absolute;border-left: 1px solid gray;box-sizing: border-box;top: 0;bottom: 0;left: 50%;z-index: 0;}#sk-container-id-3 div.sk-serial {display: flex;flex-direction: column;align-items: center;background-color: white;padding-right: 0.2em;padding-left: 0.2em;position: relative;}#sk-container-id-3 div.sk-item {position: relative;z-index: 1;}#sk-container-id-3 div.sk-parallel {display: flex;align-items: stretch;justify-content: center;background-color: white;position: relative;}#sk-container-id-3 div.sk-item::before, #sk-container-id-3 div.sk-parallel-item::before {content: \"\";position: absolute;border-left: 1px solid gray;box-sizing: border-box;top: 0;bottom: 0;left: 50%;z-index: -1;}#sk-container-id-3 div.sk-parallel-item {display: flex;flex-direction: column;z-index: 1;position: relative;background-color: white;}#sk-container-id-3 div.sk-parallel-item:first-child::after {align-self: flex-end;width: 50%;}#sk-container-id-3 div.sk-parallel-item:last-child::after {align-self: flex-start;width: 50%;}#sk-container-id-3 div.sk-parallel-item:only-child::after {width: 0;}#sk-container-id-3 div.sk-dashed-wrapped {border: 1px dashed gray;margin: 0 0.4em 0.5em 0.4em;box-sizing: border-box;padding-bottom: 0.4em;background-color: white;}#sk-container-id-3 div.sk-label label {font-family: monospace;font-weight: bold;display: inline-block;line-height: 1.2em;}#sk-container-id-3 div.sk-label-container {text-align: center;}#sk-container-id-3 div.sk-container {/* jupyter's `normalize.less` sets `[hidden] { display: none; }` but bootstrap.min.css set `[hidden] { display: none !important; }` so we also need the `!important` here to be able to override the default hidden behavior on the sphinx rendered scikit-learn.org. See: https://github.com/scikit-learn/scikit-learn/issues/21755 */display: inline-block !important;position: relative;}#sk-container-id-3 div.sk-text-repr-fallback {display: none;}</style><div id=\"sk-container-id-3\" class=\"sk-top-container\"><div class=\"sk-text-repr-fallback\"><pre>GridSearchCV(estimator=Pipeline(steps=[(&#x27;vectorizer&#x27;, CountVectorizer()),\n",
       "                                       (&#x27;tfidf&#x27;, TfidfTransformer()),\n",
       "                                       (&#x27;classifier&#x27;,\n",
       "                                        RandomForestClassifier(random_state=80))]),\n",
       "             n_jobs=-1,\n",
       "             param_grid={&#x27;classifier__n_estimators&#x27;: (20, 50, 100),\n",
       "                         &#x27;tfidf__use_idf&#x27;: (True, False),\n",
       "                         &#x27;vectorizer__max_features&#x27;: (None, 1000, 2000),\n",
       "                         &#x27;vectorizer__ngram_range&#x27;: ((1, 1), (1, 2)),\n",
       "                         &#x27;vectorizer__stop_words&#x27;: (&#x27;english&#x27;, None)},\n",
       "             verbose=1)</pre><b>In a Jupyter environment, please rerun this cell to show the HTML representation or trust the notebook. <br />On GitHub, the HTML representation is unable to render, please try loading this page with nbviewer.org.</b></div><div class=\"sk-container\" hidden><div class=\"sk-item sk-dashed-wrapped\"><div class=\"sk-label-container\"><div class=\"sk-label sk-toggleable\"><input class=\"sk-toggleable__control sk-hidden--visually\" id=\"sk-estimator-id-5\" type=\"checkbox\" ><label for=\"sk-estimator-id-5\" class=\"sk-toggleable__label sk-toggleable__label-arrow\">GridSearchCV</label><div class=\"sk-toggleable__content\"><pre>GridSearchCV(estimator=Pipeline(steps=[(&#x27;vectorizer&#x27;, CountVectorizer()),\n",
       "                                       (&#x27;tfidf&#x27;, TfidfTransformer()),\n",
       "                                       (&#x27;classifier&#x27;,\n",
       "                                        RandomForestClassifier(random_state=80))]),\n",
       "             n_jobs=-1,\n",
       "             param_grid={&#x27;classifier__n_estimators&#x27;: (20, 50, 100),\n",
       "                         &#x27;tfidf__use_idf&#x27;: (True, False),\n",
       "                         &#x27;vectorizer__max_features&#x27;: (None, 1000, 2000),\n",
       "                         &#x27;vectorizer__ngram_range&#x27;: ((1, 1), (1, 2)),\n",
       "                         &#x27;vectorizer__stop_words&#x27;: (&#x27;english&#x27;, None)},\n",
       "             verbose=1)</pre></div></div></div><div class=\"sk-parallel\"><div class=\"sk-parallel-item\"><div class=\"sk-item\"><div class=\"sk-label-container\"><div class=\"sk-label sk-toggleable\"><input class=\"sk-toggleable__control sk-hidden--visually\" id=\"sk-estimator-id-6\" type=\"checkbox\" ><label for=\"sk-estimator-id-6\" class=\"sk-toggleable__label sk-toggleable__label-arrow\">estimator: Pipeline</label><div class=\"sk-toggleable__content\"><pre>Pipeline(steps=[(&#x27;vectorizer&#x27;, CountVectorizer()),\n",
       "                (&#x27;tfidf&#x27;, TfidfTransformer()),\n",
       "                (&#x27;classifier&#x27;, RandomForestClassifier(random_state=80))])</pre></div></div></div><div class=\"sk-serial\"><div class=\"sk-item\"><div class=\"sk-serial\"><div class=\"sk-item\"><div class=\"sk-estimator sk-toggleable\"><input class=\"sk-toggleable__control sk-hidden--visually\" id=\"sk-estimator-id-7\" type=\"checkbox\" ><label for=\"sk-estimator-id-7\" class=\"sk-toggleable__label sk-toggleable__label-arrow\">CountVectorizer</label><div class=\"sk-toggleable__content\"><pre>CountVectorizer()</pre></div></div></div><div class=\"sk-item\"><div class=\"sk-estimator sk-toggleable\"><input class=\"sk-toggleable__control sk-hidden--visually\" id=\"sk-estimator-id-8\" type=\"checkbox\" ><label for=\"sk-estimator-id-8\" class=\"sk-toggleable__label sk-toggleable__label-arrow\">TfidfTransformer</label><div class=\"sk-toggleable__content\"><pre>TfidfTransformer()</pre></div></div></div><div class=\"sk-item\"><div class=\"sk-estimator sk-toggleable\"><input class=\"sk-toggleable__control sk-hidden--visually\" id=\"sk-estimator-id-9\" type=\"checkbox\" ><label for=\"sk-estimator-id-9\" class=\"sk-toggleable__label sk-toggleable__label-arrow\">RandomForestClassifier</label><div class=\"sk-toggleable__content\"><pre>RandomForestClassifier(random_state=80)</pre></div></div></div></div></div></div></div></div></div></div></div></div>"
      ],
      "text/plain": [
       "GridSearchCV(estimator=Pipeline(steps=[('vectorizer', CountVectorizer()),\n",
       "                                       ('tfidf', TfidfTransformer()),\n",
       "                                       ('classifier',\n",
       "                                        RandomForestClassifier(random_state=80))]),\n",
       "             n_jobs=-1,\n",
       "             param_grid={'classifier__n_estimators': (20, 50, 100),\n",
       "                         'tfidf__use_idf': (True, False),\n",
       "                         'vectorizer__max_features': (None, 1000, 2000),\n",
       "                         'vectorizer__ngram_range': ((1, 1), (1, 2)),\n",
       "                         'vectorizer__stop_words': ('english', None)},\n",
       "             verbose=1)"
      ]
     },
     "execution_count": 46,
     "metadata": {},
     "output_type": "execute_result"
    }
   ],
   "source": [
    "parameters = {\n",
    "    'vectorizer__max_features': (None, 1000, 2000),\n",
    "    'vectorizer__ngram_range': ((1, 1), (1, 2)),  # unigrams or bigrams\n",
    "    'vectorizer__stop_words': ('english', None),\n",
    "    'tfidf__use_idf': (True, False),  # enable/disable inverse-document-frequency\n",
    "    'classifier__n_estimators': (20, 50, 100)\n",
    "}\n",
    "\n",
    "# create a grid search object\n",
    "grid_search = GridSearchCV(pipeline2, parameters, n_jobs=-1, verbose=1)\n",
    "\n",
    "# fit the grid search object on the training data\n",
    "grid_search.fit(d_train_all_cont, d_train_all_label)"
   ]
  },
  {
   "cell_type": "markdown",
   "metadata": {},
   "source": [
    "**Print out the best parameter settings.** (1 point)"
   ]
  },
  {
   "cell_type": "code",
   "execution_count": 47,
   "metadata": {},
   "outputs": [
    {
     "name": "stdout",
     "output_type": "stream",
     "text": [
      "Best parameters:  {'classifier__n_estimators': 20, 'tfidf__use_idf': True, 'vectorizer__max_features': 1000, 'vectorizer__ngram_range': (1, 2), 'vectorizer__stop_words': 'english'}\n"
     ]
    }
   ],
   "source": [
    "# print the best parameters\n",
    "print('Best parameters: ', grid_search.best_params_)"
   ]
  },
  {
   "cell_type": "markdown",
   "metadata": {},
   "source": [
    "## Task 7: TF Calculation"
   ]
  },
  {
   "cell_type": "markdown",
   "metadata": {},
   "source": [
    "**Write python code that takes as an input a list of sentences and outputs the TF for every term in every sentence.** (7 points)\n",
    "\n",
    "Input: list of sentences\n",
    "\n",
    "Output: the term frequency for every word in every sentence\n",
    "\n",
    "Test Cases:\n",
    "\n",
    "sentences = [\n",
    "\n",
    "\"Python is a great programming language\",\n",
    "\n",
    "\"Python can be used for a wide variety of programming tasks\",\n",
    "\n",
    "\"It's easy to learn Python\"\n",
    "\n",
    "]\n",
    "\n",
    "sentences = [\n",
    "\n",
    "\"I love math\",\n",
    "\n",
    "\"Math is great\",\n",
    "\n",
    "\"Math rules\"\n",
    "\n",
    "]"
   ]
  },
  {
   "cell_type": "code",
   "execution_count": 48,
   "metadata": {},
   "outputs": [],
   "source": [
    "# define a function to count the term frequency of a list of sentences\n",
    "# use a prettytable to display the results\n",
    "def term_frequency(sentences):\n",
    "    # count the word\n",
    "    for sentence in sentences:\n",
    "        print('Sentence: ', sentence)\n",
    "        dic = {}\n",
    "        sum_words = 0\n",
    "        for word in sentence.lower().split():\n",
    "            sum_words += 1\n",
    "            if word in dic:\n",
    "                dic[word] += 1\n",
    "            else:\n",
    "                dic[word] = 1            \n",
    "        pt = PrettyTable()\n",
    "        pt.field_names = ['Word', 'Count', 'Term Frequency']\n",
    "        # calculate the term frequency\n",
    "        for word, freq in dic.items():\n",
    "            pt.add_row([word, freq, freq/sum_words])\n",
    "        print(pt)"
   ]
  },
  {
   "cell_type": "code",
   "execution_count": 49,
   "metadata": {},
   "outputs": [],
   "source": [
    "# create the list of sentence\n",
    "sentences_1 = [\n",
    "    \"Python is a great programming language\",\n",
    "    \"Python can be used for a wide variety of programming tasks\",\n",
    "    \"It's easy to learn Python\"\n",
    "    ]"
   ]
  },
  {
   "cell_type": "code",
   "execution_count": 50,
   "metadata": {},
   "outputs": [
    {
     "name": "stdout",
     "output_type": "stream",
     "text": [
      "Sentence:  Python is a great programming language\n",
      "+-------------+-------+---------------------+\n",
      "|     Word    | Count |    Term Frequency   |\n",
      "+-------------+-------+---------------------+\n",
      "|    python   |   1   | 0.16666666666666666 |\n",
      "|      is     |   1   | 0.16666666666666666 |\n",
      "|      a      |   1   | 0.16666666666666666 |\n",
      "|    great    |   1   | 0.16666666666666666 |\n",
      "| programming |   1   | 0.16666666666666666 |\n",
      "|   language  |   1   | 0.16666666666666666 |\n",
      "+-------------+-------+---------------------+\n",
      "Sentence:  Python can be used for a wide variety of programming tasks\n",
      "+-------------+-------+---------------------+\n",
      "|     Word    | Count |    Term Frequency   |\n",
      "+-------------+-------+---------------------+\n",
      "|    python   |   1   | 0.09090909090909091 |\n",
      "|     can     |   1   | 0.09090909090909091 |\n",
      "|      be     |   1   | 0.09090909090909091 |\n",
      "|     used    |   1   | 0.09090909090909091 |\n",
      "|     for     |   1   | 0.09090909090909091 |\n",
      "|      a      |   1   | 0.09090909090909091 |\n",
      "|     wide    |   1   | 0.09090909090909091 |\n",
      "|   variety   |   1   | 0.09090909090909091 |\n",
      "|      of     |   1   | 0.09090909090909091 |\n",
      "| programming |   1   | 0.09090909090909091 |\n",
      "|    tasks    |   1   | 0.09090909090909091 |\n",
      "+-------------+-------+---------------------+\n",
      "Sentence:  It's easy to learn Python\n",
      "+--------+-------+----------------+\n",
      "|  Word  | Count | Term Frequency |\n",
      "+--------+-------+----------------+\n",
      "|  it's  |   1   |      0.2       |\n",
      "|  easy  |   1   |      0.2       |\n",
      "|   to   |   1   |      0.2       |\n",
      "| learn  |   1   |      0.2       |\n",
      "| python |   1   |      0.2       |\n",
      "+--------+-------+----------------+\n"
     ]
    }
   ],
   "source": [
    "term_frequency(sentences_1)"
   ]
  },
  {
   "cell_type": "code",
   "execution_count": 51,
   "metadata": {},
   "outputs": [],
   "source": [
    "# create the list of sentence\n",
    "sentences_2 = [\n",
    "    \"I love math\",\n",
    "    \"Math is great\",\n",
    "    \"Math rules\"\n",
    "    ]"
   ]
  },
  {
   "cell_type": "code",
   "execution_count": 52,
   "metadata": {},
   "outputs": [
    {
     "name": "stdout",
     "output_type": "stream",
     "text": [
      "Sentence:  I love math\n",
      "+------+-------+--------------------+\n",
      "| Word | Count |   Term Frequency   |\n",
      "+------+-------+--------------------+\n",
      "|  i   |   1   | 0.3333333333333333 |\n",
      "| love |   1   | 0.3333333333333333 |\n",
      "| math |   1   | 0.3333333333333333 |\n",
      "+------+-------+--------------------+\n",
      "Sentence:  Math is great\n",
      "+-------+-------+--------------------+\n",
      "|  Word | Count |   Term Frequency   |\n",
      "+-------+-------+--------------------+\n",
      "|  math |   1   | 0.3333333333333333 |\n",
      "|   is  |   1   | 0.3333333333333333 |\n",
      "| great |   1   | 0.3333333333333333 |\n",
      "+-------+-------+--------------------+\n",
      "Sentence:  Math rules\n",
      "+-------+-------+----------------+\n",
      "|  Word | Count | Term Frequency |\n",
      "+-------+-------+----------------+\n",
      "|  math |   1   |      0.5       |\n",
      "| rules |   1   |      0.5       |\n",
      "+-------+-------+----------------+\n"
     ]
    }
   ],
   "source": [
    "term_frequency(sentences_2)"
   ]
  },
  {
   "cell_type": "markdown",
   "metadata": {},
   "source": [
    "## Task 8: IDF Calculation"
   ]
  },
  {
   "cell_type": "markdown",
   "metadata": {},
   "source": [
    "**Write Python code that calculates the inverse document frequency for a list of sentences.** (8 points)\n",
    "\n",
    "Inputs: list of sentences\n",
    "\n",
    "Outputs: inverse document frequency for each word in the list of sentences.\n",
    "\n",
    "Test Cases:\n",
    "\n",
    "sentences = [\n",
    "\n",
    "\"Python is a great programming language\",\n",
    "\n",
    "\"Python can be used for a wide variety of programming tasks\",\n",
    "\n",
    "\"It's easy to learn Python\"\n",
    "\n",
    "]\n",
    "\n",
    "sentences = [\n",
    "    \n",
    "\"I love math\",\n",
    "\n",
    "\"Math is great\",\n",
    "\n",
    "\"Math rules\"\n",
    "\n",
    "]"
   ]
  },
  {
   "cell_type": "code",
   "execution_count": 53,
   "metadata": {},
   "outputs": [],
   "source": [
    "# define a function to count the inverse document frequency of a list of sentences\n",
    "# use a prettytable to display the results\n",
    "def inverse_document_freq(sentences):\n",
    "    dic = {}\n",
    "    sum_sent = 0\n",
    "\n",
    "    # obtain the unique words\n",
    "    for sentence in sentences:\n",
    "        for word in sentence.lower().split():\n",
    "            if word not in dic:\n",
    "                dic[word] = 0\n",
    "    # count the number of sentences that contains the word\n",
    "    for sentence in sentences:\n",
    "        sum_sent += 1\n",
    "        for word in dic.keys():\n",
    "            if word in sentence.lower().split():\n",
    "                dic[word] += 1\n",
    "    # calculate the inverse document frequency\n",
    "    pt = PrettyTable()\n",
    "    pt.field_names = ['Word', 'Count', 'Inverse Document Frequency']\n",
    "    for word, freq in dic.items():\n",
    "        pt.add_row([word, freq, math.log(sum_sent/freq)])\n",
    "    print(pt)"
   ]
  },
  {
   "cell_type": "code",
   "execution_count": 54,
   "metadata": {},
   "outputs": [
    {
     "name": "stdout",
     "output_type": "stream",
     "text": [
      "+-------------+-------+----------------------------+\n",
      "|     Word    | Count | Inverse Document Frequency |\n",
      "+-------------+-------+----------------------------+\n",
      "|    python   |   3   |            0.0             |\n",
      "|      is     |   1   |     1.0986122886681098     |\n",
      "|      a      |   2   |     0.4054651081081644     |\n",
      "|    great    |   1   |     1.0986122886681098     |\n",
      "| programming |   2   |     0.4054651081081644     |\n",
      "|   language  |   1   |     1.0986122886681098     |\n",
      "|     can     |   1   |     1.0986122886681098     |\n",
      "|      be     |   1   |     1.0986122886681098     |\n",
      "|     used    |   1   |     1.0986122886681098     |\n",
      "|     for     |   1   |     1.0986122886681098     |\n",
      "|     wide    |   1   |     1.0986122886681098     |\n",
      "|   variety   |   1   |     1.0986122886681098     |\n",
      "|      of     |   1   |     1.0986122886681098     |\n",
      "|    tasks    |   1   |     1.0986122886681098     |\n",
      "|     it's    |   1   |     1.0986122886681098     |\n",
      "|     easy    |   1   |     1.0986122886681098     |\n",
      "|      to     |   1   |     1.0986122886681098     |\n",
      "|    learn    |   1   |     1.0986122886681098     |\n",
      "+-------------+-------+----------------------------+\n"
     ]
    }
   ],
   "source": [
    "inverse_document_freq(sentences_1)"
   ]
  },
  {
   "cell_type": "code",
   "execution_count": 55,
   "metadata": {},
   "outputs": [
    {
     "name": "stdout",
     "output_type": "stream",
     "text": [
      "+-------+-------+----------------------------+\n",
      "|  Word | Count | Inverse Document Frequency |\n",
      "+-------+-------+----------------------------+\n",
      "|   i   |   1   |     1.0986122886681098     |\n",
      "|  love |   1   |     1.0986122886681098     |\n",
      "|  math |   3   |            0.0             |\n",
      "|   is  |   1   |     1.0986122886681098     |\n",
      "| great |   1   |     1.0986122886681098     |\n",
      "| rules |   1   |     1.0986122886681098     |\n",
      "+-------+-------+----------------------------+\n"
     ]
    }
   ],
   "source": [
    "inverse_document_freq(sentences_2)"
   ]
  },
  {
   "cell_type": "markdown",
   "metadata": {},
   "source": [
    "**Note** Below are extra test cases to confirm the codes are working as intended."
   ]
  },
  {
   "cell_type": "code",
   "execution_count": 56,
   "metadata": {},
   "outputs": [
    {
     "name": "stdout",
     "output_type": "stream",
     "text": [
      "+-------+-------+----------------------------+\n",
      "|  Word | Count | Inverse Document Frequency |\n",
      "+-------+-------+----------------------------+\n",
      "|   i   |   2   |     0.6931471805599453     |\n",
      "|  love |   2   |     0.6931471805599453     |\n",
      "|  math |   4   |            0.0             |\n",
      "|  for  |   1   |     1.3862943611198906     |\n",
      "|   is  |   2   |     0.6931471805599453     |\n",
      "| great |   2   |     0.6931471805599453     |\n",
      "| rules |   1   |     1.3862943611198906     |\n",
      "+-------+-------+----------------------------+\n"
     ]
    }
   ],
   "source": [
    "inverse_document_freq([\"I love math for math is great\", \"Math is great\", \"Math rules\", \"I love math\"])"
   ]
  },
  {
   "cell_type": "code",
   "execution_count": 57,
   "metadata": {},
   "outputs": [
    {
     "name": "stdout",
     "output_type": "stream",
     "text": [
      "+------------+-------+----------------------------+\n",
      "|    Word    | Count | Inverse Document Frequency |\n",
      "+------------+-------+----------------------------+\n",
      "|     i      |   2   |     0.4054651081081644     |\n",
      "|    love    |   2   |     0.4054651081081644     |\n",
      "|  watching  |   2   |     0.4054651081081644     |\n",
      "|   movie    |   2   |     0.4054651081081644     |\n",
      "|   since    |   1   |     1.0986122886681098     |\n",
      "|     is     |   2   |     0.4054651081081644     |\n",
      "|   cheap    |   1   |     1.0986122886681098     |\n",
      "|     in     |   2   |     0.4054651081081644     |\n",
      "|     a      |   1   |     1.0986122886681098     |\n",
      "|  theatre   |   1   |     1.0986122886681098     |\n",
      "|   great    |   1   |     1.0986122886681098     |\n",
      "| experience |   1   |     1.0986122886681098     |\n",
      "|  spending  |   1   |     1.0986122886681098     |\n",
      "|    time    |   1   |     1.0986122886681098     |\n",
      "|    the     |   1   |     1.0986122886681098     |\n",
      "|   nature   |   1   |     1.0986122886681098     |\n",
      "+------------+-------+----------------------------+\n"
     ]
    }
   ],
   "source": [
    "inverse_document_freq([\"I love watching movie since movie is cheap\", \"watching movie in a movie theatre is a great experience\", \"I love spending time in the nature\"])"
   ]
  }
 ],
 "metadata": {
  "kernelspec": {
   "display_name": "py3918",
   "language": "python",
   "name": "python3"
  },
  "language_info": {
   "codemirror_mode": {
    "name": "ipython",
    "version": 3
   },
   "file_extension": ".py",
   "mimetype": "text/x-python",
   "name": "python",
   "nbconvert_exporter": "python",
   "pygments_lexer": "ipython3",
   "version": "3.9.18"
  }
 },
 "nbformat": 4,
 "nbformat_minor": 2
}
